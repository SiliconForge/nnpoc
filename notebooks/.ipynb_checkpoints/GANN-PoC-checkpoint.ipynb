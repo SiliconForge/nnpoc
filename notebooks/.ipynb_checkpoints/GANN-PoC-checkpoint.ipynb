{
 "cells": [
  {
   "cell_type": "code",
   "execution_count": 1,
   "metadata": {},
   "outputs": [],
   "source": [
    "import warnings\n",
    "warnings.filterwarnings('ignore')"
   ]
  },
  {
   "cell_type": "code",
   "execution_count": 143,
   "metadata": {},
   "outputs": [],
   "source": [
    "#from mpl_toolkits.mplot3d import Axes3D\n",
    "#import matplotlib\n",
    "#matplotlib.use('Agg')\n",
    "import matplotlib.pyplot as plt\n",
    "import copy\n",
    "import numpy as np\n",
    "#import tensorflow as tf\n",
    "#import tensorflow_probability as tfp\n",
    "#from tensorflow import keras\n",
    "#from keras.models import Sequential, Model\n",
    "#from keras.layers import Dense, Layer, Input\n",
    "#from keras import optimizers\n",
    "#from sklearn.metrics import r2_score\n",
    "import gc\n",
    "import os\n",
    "import graphviz\n",
    "from IPython.display import display"
   ]
  },
  {
   "cell_type": "code",
   "execution_count": 3,
   "metadata": {},
   "outputs": [],
   "source": [
    "def generateDataset(numPoints):\n",
    "    x = np.linspace(-1*np.pi*2,1*np.pi*2,100)\n",
    "    return x,np.cos(x)"
   ]
  },
  {
   "cell_type": "code",
   "execution_count": 235,
   "metadata": {},
   "outputs": [],
   "source": [
    "class individual:\n",
    "    def __init__(self,neuronInterval=(2,10),inputs=1,outputs=1, debugFlag=False):\n",
    "        self.debugFlag = debugFlag\n",
    "        self.colorNodes = {0:\"black\",1:\"red\",2:\"blue\",3:\"cyan\",4:\"yellow\",5:\"green\"}\n",
    "        self.activations = {0:lambda z: self.sigmoid(z),\n",
    "                            1:lambda z: self.tanh(z),\n",
    "                            2:lambda z: self.relu(z),\n",
    "                            3:lambda z: self.elu(z),\n",
    "                            4:lambda z: self.softplus(z),\n",
    "                            5:lambda z: self.linear(z)}\n",
    "        self.numInputs = inputs\n",
    "        self.numOutputs = outputs\n",
    "        self.adjecencyMatrix = self.generateAdjecencyMatrix(np.random.randint(*neuronInterval),inputs,outputs)\n",
    "        self.biasVector = self.initializeBias(self.adjecencyMatrix.shape[0])\n",
    "        self.activationVector = self.initializeActivation(self.adjecencyMatrix.shape[0])\n",
    "        self.weightMatrix = self.initializeWeights(self.adjecencyMatrix,np.random.random()*5)\n",
    "        self.gene = self.initializeGene()\n",
    "        if self.debugFlag: print(\"Individual successfully generated\")\n",
    "            \n",
    "    def initializeBias(self,numBiases):\n",
    "        biasVectorTmp = []\n",
    "        for i in range(numBiases):\n",
    "            biasVectorTmp.append(np.random.random()*10)\n",
    "        return biasVectorTmp\n",
    "    \n",
    "    def initializeActivation(self,numActivations):\n",
    "        activationVectorTmp = []\n",
    "        for i in range(numActivations):\n",
    "            activationVectorTmp.append(np.random.choice(range(0,6),p=[1/6,1/6,1/6,1/6,1/6,1/6]))\n",
    "        return activationVectorTmp\n",
    "    \n",
    "    def initializeGene(self):\n",
    "        geneArray = []\n",
    "        for i in range(self.adjecencyMatrix.shape[0]):\n",
    "            connectionList = []\n",
    "            weightList = []\n",
    "            for j in range(self.adjecencyMatrix.shape[1]):\n",
    "                if self.adjecencyMatrix[i,j] == 1:\n",
    "                    connectionList.append(j)\n",
    "                    weightList.append(self.weightMatrix[i,j])\n",
    "            biasValue = self.biasVector[i]\n",
    "            activationType = self.activationVector[i]\n",
    "            geneArray.append([connectionList,weightList,activationType,biasValue,None])\n",
    "        geneArray = np.array(geneArray)\n",
    "        return geneArray\n",
    "            \n",
    "    def calculateOutputs(self,inputVector):\n",
    "        for i in range(len(self.gene)):\n",
    "            self.gene[i,4] = None\n",
    "        for i in range(len(inputVector)):\n",
    "            self.gene[i,4] = inputVector[i]\n",
    "        for i in range(len(self.gene)):\n",
    "            self.gene[i,4] = self.response(self.gene[i,0],i)\n",
    "        return self.gene[len(self.gene)-self.numOutputs:,4]\n",
    "        \n",
    "    def softplus(self,x):\n",
    "        return np.log(1+np.exp(x))\n",
    "    \n",
    "    def linear(self,x):\n",
    "        return x\n",
    "\n",
    "    def sigmoid(self,x):\n",
    "        return 1/(1+np.exp(-x))\n",
    "    \n",
    "    def elu(self,x):\n",
    "        if x <= 0:\n",
    "            return (np.exp(x)-1)\n",
    "        else:\n",
    "            return x\n",
    "    \n",
    "    def tanh(self,x):\n",
    "        return np.tanh(x)\n",
    "    \n",
    "    def relu(self,x):\n",
    "        if x <= 0:\n",
    "            return 0\n",
    "        else:\n",
    "            return x\n",
    "    \n",
    "    def response(self,indices,number):\n",
    "        if self.gene[number,4] == None:\n",
    "            answer = 0\n",
    "            j = 0\n",
    "            for i in indices:\n",
    "                answer = answer + self.response(self.gene[i,0],i)*self.gene[number,1][j]\n",
    "                j += 1\n",
    "            return self.activations[self.gene[number,2]](answer+self.gene[number,3])\n",
    "        else:    \n",
    "            return self.gene[number,4]\n",
    "        \n",
    "    def generateAdjecencyMatrix(self,\n",
    "                                hidden,\n",
    "                                inputs,\n",
    "                                outputs,\n",
    "                                hidden_connectedness = 0.5,\n",
    "                                input_connectedness = 0.5,\n",
    "                                output_connectedness = 0.5):\n",
    "        retry = True\n",
    "        counter = 0\n",
    "        while retry:\n",
    "            counter += 1\n",
    "            retry = False\n",
    "            totalNeurons = hidden+inputs+outputs\n",
    "            adjecencyMatrix = np.random.choice([0, 1],(totalNeurons,totalNeurons),p=[1-hidden_connectedness,hidden_connectedness])\n",
    "            adjecencyMatrix[totalNeurons-outputs:,:] = np.random.choice([0,1],(outputs,totalNeurons),p=[1-output_connectedness,output_connectedness])\n",
    "            adjecencyMatrix[:,:inputs] = np.random.choice([0,1],(totalNeurons,inputs),p=[1-input_connectedness,input_connectedness])\n",
    "            adjecencyMatrix[:inputs,:] = np.zeros(adjecencyMatrix[:inputs,:].shape)\n",
    "            adjecencyMatrix[:,totalNeurons-outputs:] = np.zeros(adjecencyMatrix[:,totalNeurons-outputs:].shape)\n",
    "            for i in range(totalNeurons):\n",
    "                for j in range(totalNeurons):\n",
    "                    if i <= j:\n",
    "                        adjecencyMatrix[i,j] = 0\n",
    "            for i in range(totalNeurons-inputs):\n",
    "                if (adjecencyMatrix[i+inputs,:] == np.zeros(adjecencyMatrix[i+inputs,:].shape)).all():\n",
    "                    retry = True\n",
    "            for i in range(totalNeurons-outputs-inputs):\n",
    "                if (adjecencyMatrix[:,i+inputs] == np.zeros(adjecencyMatrix[:,i+inputs].shape)).all():\n",
    "                    retry = True\n",
    "        if self.debugFlag: \n",
    "            if counter % 100 == 1 : print(\"Iteration :\" + str(counter))\n",
    "        if self.debugFlag: print(\"Valid Topology found in \"+str(counter)+\" tries!\")\n",
    "        return adjecencyMatrix\n",
    "    \n",
    "    def initializeWeights(self,matrix,weightRange):\n",
    "        weightMatrixTmp = np.zeros(self.adjecencyMatrix.shape)\n",
    "        for i in range(self.adjecencyMatrix.shape[0]):\n",
    "            for j in range(self.adjecencyMatrix.shape[1]):\n",
    "                tmpValue = self.adjecencyMatrix[i,j]*np.random.normal(0,weightRange)\n",
    "                if tmpValue != -0.0:\n",
    "                    weightMatrixTmp[i,j] = tmpValue\n",
    "        return weightMatrixTmp\n",
    "    \n",
    "    def visualizeTopology(self):\n",
    "        graphvizString = \"digraph{rankdir = LR;graph [ dpi = 50 ];\"\n",
    "        for i in range(len(self.adjecencyMatrix)):\n",
    "            for j in range(len(self.adjecencyMatrix)):\n",
    "                if self.adjecencyMatrix[i,j] == 1:\n",
    "                    graphvizString += str(j) + \"->\" + str(i) + \"[label=\"+ str(f\"{self.weightMatrix[i,j]:0.2f}\")+\" color=\"+self.colorNodes[self.gene[i,2]]+\"];\" \n",
    "        graphvizString += \"}\"\n",
    "        return graphvizString"
   ]
  },
  {
   "cell_type": "code",
   "execution_count": 238,
   "metadata": {
    "scrolled": true
   },
   "outputs": [
    {
     "data": {
      "image/png": "[encoded data removed]",
      "text/plain": [
       "<Figure size 864x864 with 1 Axes>"
      ]
     },
     "metadata": {
      "needs_background": "light"
     },
     "output_type": "display_data"
    }
   ],
   "source": [
    "arrayIndividuals = []\n",
    "for i in range(10):\n",
    "    arrayIndividuals.append(individual((2,10),1,1))\n",
    "plt.figure(figsize=(12,12))\n",
    "x = np.linspace(-20,20,1000)\n",
    "y = np.zeros(x.shape)\n",
    "for j in range(len(arrayIndividuals)):\n",
    "    for i in range(len(x)):\n",
    "        y[i] = arrayIndividuals[j].calculateOutputs([x[i]])\n",
    "    #display(graphviz.Source(arrayIndividuals[j].visualizeTopology()))\n",
    "    plt.plot(x,y)\n",
    "    plt.ylim([-10,10])"
   ]
  },
  {
   "cell_type": "code",
   "execution_count": 226,
   "metadata": {},
   "outputs": [],
   "source": [
    "def mutateInduvidual(original,weightRate=0.1,biasRate=0.1):\n",
    "    clone = copy.deepcopy(original)\n",
    "    for i in range(len(original.gene)):\n",
    "        if np.random.random() < biasRate:\n",
    "            clone.gene[i,3] += ((np.random.random()-0.5)*10)\n",
    "        for j in range(len(original.gene[i,1])):\n",
    "            if np.random.random() < weightRate:\n",
    "                clone.gene[i,1][j] += ((np.random.random()-0.5)*10)  #mutate weights  \n",
    "    return clone"
   ]
  },
  {
   "cell_type": "code",
   "execution_count": 217,
   "metadata": {},
   "outputs": [],
   "source": [
    "hue = individual((2,4),1,1)"
   ]
  },
  {
   "cell_type": "code",
   "execution_count": 223,
   "metadata": {},
   "outputs": [
    {
     "data": {
      "text/plain": [
       "array([[list([]), list([]), 3, 0.9664620258214796, None],\n",
       "       [list([0]), list([-2.326344604477329]), 3, 5.610984189597056,\n",
       "        None],\n",
       "       [list([0]), list([1.2998412345133123]), 4, 0.2250515878767445,\n",
       "        None],\n",
       "       [list([0, 2]), list([0.04398154871169804, 0.7219652476184567]), 5,\n",
       "        6.364727463378217, None],\n",
       "       [list([0, 1, 2, 3]),\n",
       "        list([0.14366256161327826, 1.559167384589108, 2.174334547709023, 2.744667928039154]),\n",
       "        5, 6.429455251930686, None]], dtype=object)"
      ]
     },
     "execution_count": 223,
     "metadata": {},
     "output_type": "execute_result"
    }
   ],
   "source": [
    "hue.gene"
   ]
  },
  {
   "cell_type": "code",
   "execution_count": 220,
   "metadata": {},
   "outputs": [
    {
     "data": {
      "text/plain": [
       "array([0.9664620258214796, 5.610984189597056, 0.2250515878767445,\n",
       "       5.522017824901912, 6.429455251930686], dtype=object)"
      ]
     },
     "execution_count": 220,
     "metadata": {},
     "output_type": "execute_result"
    }
   ],
   "source": [
    "mutateInduvidual(hue).gene[:,3]"
   ]
  },
  {
   "cell_type": "code",
   "execution_count": null,
   "metadata": {},
   "outputs": [],
   "source": []
  },
  {
   "cell_type": "code",
   "execution_count": null,
   "metadata": {},
   "outputs": [],
   "source": []
  }
 ],
 "metadata": {
  "kernelspec": {
   "display_name": "Python 3",
   "language": "python",
   "name": "python3"
  },
  "language_info": {
   "codemirror_mode": {
    "name": "ipython",
    "version": 3
   },
   "file_extension": ".py",
   "mimetype": "text/x-python",
   "name": "python",
   "nbconvert_exporter": "python",
   "pygments_lexer": "ipython3",
   "version": "3.7.6"
  }
 },
 "nbformat": 4,
 "nbformat_minor": 4
}
